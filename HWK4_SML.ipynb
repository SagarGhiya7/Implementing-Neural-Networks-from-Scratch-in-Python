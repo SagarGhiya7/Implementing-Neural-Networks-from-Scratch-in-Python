{
 "cells": [
  {
   "cell_type": "code",
   "execution_count": 1,
   "metadata": {
    "collapsed": true
   },
   "outputs": [],
   "source": [
    "#Importing Packages\n",
    "import numpy as np\n",
    "import pandas as pd\n",
    "import matplotlib.pyplot as plt\n",
    "import scipy.io as sio\n",
    "import math\n",
    "%matplotlib inline"
   ]
  },
  {
   "cell_type": "code",
   "execution_count": 2,
   "metadata": {
    "collapsed": true
   },
   "outputs": [],
   "source": [
    "import os\n",
    "os.chdir(\"C:/Users/Sagar Ghiya/Desktop\")"
   ]
  },
  {
   "cell_type": "code",
   "execution_count": 3,
   "metadata": {
    "collapsed": true
   },
   "outputs": [],
   "source": [
    "data = sio.loadmat('dataset')"
   ]
  },
  {
   "cell_type": "code",
   "execution_count": 4,
   "metadata": {},
   "outputs": [
    {
     "data": {
      "text/plain": [
       "dict_keys(['__header__', '__version__', '__globals__', 'X_test', 'X_train', 'X_validation', 'Y_test', 'Y_train', 'Y_validation'])"
      ]
     },
     "execution_count": 4,
     "metadata": {},
     "output_type": "execute_result"
    }
   ],
   "source": [
    "data.keys()"
   ]
  },
  {
   "cell_type": "code",
   "execution_count": 5,
   "metadata": {
    "collapsed": true
   },
   "outputs": [],
   "source": [
    "x_train = data['X_train']\n",
    "x_test = data['X_test']\n",
    "x_validation = data['X_validation']\n",
    "y_train = data['Y_train']\n",
    "y_test = data['Y_test']\n",
    "y_validation = data['Y_validation']"
   ]
  },
  {
   "cell_type": "code",
   "execution_count": 6,
   "metadata": {},
   "outputs": [
    {
     "data": {
      "text/plain": [
       "(2, 200)"
      ]
     },
     "execution_count": 6,
     "metadata": {},
     "output_type": "execute_result"
    }
   ],
   "source": [
    "x_train.shape"
   ]
  },
  {
   "cell_type": "code",
   "execution_count": 7,
   "metadata": {},
   "outputs": [
    {
     "data": {
      "text/plain": [
       "(1, 200)"
      ]
     },
     "execution_count": 7,
     "metadata": {},
     "output_type": "execute_result"
    }
   ],
   "source": [
    "y_train.shape"
   ]
  },
  {
   "cell_type": "code",
   "execution_count": 8,
   "metadata": {},
   "outputs": [
    {
     "data": {
      "text/plain": [
       "(2, 80)"
      ]
     },
     "execution_count": 8,
     "metadata": {},
     "output_type": "execute_result"
    }
   ],
   "source": [
    "x_validation.shape"
   ]
  },
  {
   "cell_type": "code",
   "execution_count": 9,
   "metadata": {},
   "outputs": [
    {
     "data": {
      "text/plain": [
       "(1, 80)"
      ]
     },
     "execution_count": 9,
     "metadata": {},
     "output_type": "execute_result"
    }
   ],
   "source": [
    "y_validation.shape"
   ]
  },
  {
   "cell_type": "code",
   "execution_count": 10,
   "metadata": {},
   "outputs": [
    {
     "data": {
      "text/plain": [
       "(2, 120)"
      ]
     },
     "execution_count": 10,
     "metadata": {},
     "output_type": "execute_result"
    }
   ],
   "source": [
    "x_test.shape"
   ]
  },
  {
   "cell_type": "code",
   "execution_count": 11,
   "metadata": {},
   "outputs": [
    {
     "data": {
      "text/plain": [
       "(1, 120)"
      ]
     },
     "execution_count": 11,
     "metadata": {},
     "output_type": "execute_result"
    }
   ],
   "source": [
    "y_test.shape"
   ]
  },
  {
   "cell_type": "code",
   "execution_count": 12,
   "metadata": {
    "collapsed": true
   },
   "outputs": [],
   "source": [
    "#Q1\n",
    "# S1 = 2 ; S3 = 1\n",
    "# Because there are 2 features and 1 output."
   ]
  },
  {
   "cell_type": "code",
   "execution_count": 13,
   "metadata": {
    "collapsed": true
   },
   "outputs": [],
   "source": [
    "np.random.seed(123)"
   ]
  },
  {
   "cell_type": "code",
   "execution_count": 14,
   "metadata": {
    "collapsed": true
   },
   "outputs": [],
   "source": [
    "#Hyperbolic tan function\n",
    "def tanh(x):\n",
    "    return np.tanh(x)\n",
    "\n"
   ]
  },
  {
   "cell_type": "code",
   "execution_count": 15,
   "metadata": {
    "collapsed": true
   },
   "outputs": [],
   "source": [
    "#Sigmoid function\n",
    "def sigmoid(x):\n",
    "    return 1/(1 + np.exp(-x))"
   ]
  },
  {
   "cell_type": "code",
   "execution_count": 16,
   "metadata": {
    "collapsed": true
   },
   "outputs": [],
   "source": [
    "# Relu activation function\n",
    "def relu(X):\n",
    "    return np.maximum(0,X)"
   ]
  },
  {
   "cell_type": "code",
   "execution_count": 17,
   "metadata": {
    "collapsed": true
   },
   "outputs": [],
   "source": [
    "#Initializing parameters randomly\n",
    "def init_param():\n",
    "    W1 = np.random.randn(hid_l, in_l) * 0.01\n",
    "    b1 = np.zeros((hid_l, 1))\n",
    "    W2 = np.random.randn(out_l, hid_l) * 0.01;\n",
    "    b2 = np.zeros((out_l, 1))\n",
    "    assert (W1.shape == (hid_l, in_l))\n",
    "    assert (b1.shape == (hid_l, 1))\n",
    "    assert (W2.shape == (out_l, hid_l))\n",
    "    assert (b2.shape == (out_l, 1))\n",
    "    return {'W1': W1, 'b1': b1, 'W2': W2, 'b2': b2}"
   ]
  },
  {
   "cell_type": "code",
   "execution_count": 18,
   "metadata": {
    "collapsed": true
   },
   "outputs": [],
   "source": [
    "#Function for prediction\n",
    "def predict(X,param):\n",
    "    fwd = fwd_prop(X, param)\n",
    "    return np.around(fwd['A2'])"
   ]
  },
  {
   "cell_type": "code",
   "execution_count": 19,
   "metadata": {
    "collapsed": true
   },
   "outputs": [],
   "source": [
    "#Forward Propogation\n",
    "def fwd_prop(X, param):\n",
    "    W1 = param['W1']\n",
    "    b1 = param['b1']\n",
    "    W2 = param['W2']\n",
    "    b2 = param['b2']\n",
    "    a1 = sigmoid(np.dot(W1, X)+b1)\n",
    "    z1 = np.dot(W1, X)+b1\n",
    "    a2 = sigmoid(np.dot(W2, a1)+b2)\n",
    "    z2 = np.dot(W2, a1)+b2\n",
    "    val = {'A1':a1,'Z1':z1,'A2':a2,'Z2':z2}\n",
    "    return val"
   ]
  },
  {
   "cell_type": "code",
   "execution_count": 20,
   "metadata": {
    "collapsed": true
   },
   "outputs": [],
   "source": [
    "#Backward Propogation\n",
    "def back_prop(X, Y, param, val, lambd_reg):\n",
    "    W1 = param['W1']\n",
    "    b1 = param['b1']\n",
    "    W2 = param['W2']\n",
    "    b2 = param['b2']\n",
    "\n",
    "    A1 = val['A1']\n",
    "    Z1 = val['Z1']\n",
    "    A2 = val['A2']\n",
    "\n",
    "    m = Y.shape[1]\n",
    "\n",
    "    dZ2 = A2 - Y\n",
    "    dW2 = np.dot(dZ2, A1.T)/m + lambd_reg * W2\n",
    "    db2 = np.sum(dZ2, axis=1, keepdims=True)/m\n",
    "    dZ1 = np.multiply(np.dot(W2.T, dZ2), 1-np.power(A1, 2))\n",
    "    dW1 = np.dot(dZ1, X.T)/m + lambd_reg * W1\n",
    "    db1 = np.sum(dZ1, axis=1, keepdims=True)/m\n",
    "\n",
    "    W1 -= dW1\n",
    "    b1 -= db1\n",
    "    W2 -= dW2\n",
    "    b2 -= db2\n",
    "    return {'W1': W1, 'b1': b1, 'W2': W2, 'b2': b2}"
   ]
  },
  {
   "cell_type": "code",
   "execution_count": 21,
   "metadata": {
    "collapsed": true
   },
   "outputs": [],
   "source": [
    "#Classification error\n",
    "def error(predictor,actual):\n",
    "    err=0\n",
    "    len=predictor.shape[1]\n",
    "    for i in range(len):\n",
    "        if predictor[0,i]!=actual[0,i]:\n",
    "            err+=1\n",
    "    return err/len"
   ]
  },
  {
   "cell_type": "code",
   "execution_count": 22,
   "metadata": {
    "collapsed": true
   },
   "outputs": [],
   "source": [
    "#Model for NN\n",
    "def build_model():\n",
    "    param = init_param()\n",
    "    for i in range(iterations):\n",
    "            val = fwd_prop(x_train, param)\n",
    "            A2 = val['A2']\n",
    "            param = back_prop(x_train,y_train,param,val,lambd_reg)\n",
    "    return(param)"
   ]
  },
  {
   "cell_type": "code",
   "execution_count": 23,
   "metadata": {
    "collapsed": true
   },
   "outputs": [],
   "source": [
    "#Initializing values\n",
    "rho = 0.001\n",
    "in_l=2\n",
    "out_l=1\n",
    "hid_l=2\n",
    "iterations= 10000\n",
    "lambd_reg=0.5"
   ]
  },
  {
   "cell_type": "code",
   "execution_count": 24,
   "metadata": {
    "collapsed": true
   },
   "outputs": [],
   "source": [
    "#Q2\n",
    "train = build_model()"
   ]
  },
  {
   "cell_type": "code",
   "execution_count": 25,
   "metadata": {},
   "outputs": [
    {
     "data": {
      "text/plain": [
       "{'W1': array([[ -7.36931210e-20,   1.72508955e-19],\n",
       "        [ -1.22822796e-20,   2.87517095e-20]]),\n",
       " 'W2': array([[ -2.66453526e-17,  -4.44089210e-18]]),\n",
       " 'b1': array([[  5.77186322e-06],\n",
       "        [ -1.68745115e-05]]),\n",
       " 'b2': array([[ -2.84283762e-16]])}"
      ]
     },
     "execution_count": 25,
     "metadata": {},
     "output_type": "execute_result"
    }
   ],
   "source": [
    "train"
   ]
  },
  {
   "cell_type": "code",
   "execution_count": 26,
   "metadata": {},
   "outputs": [
    {
     "data": {
      "text/plain": [
       "0.5"
      ]
     },
     "execution_count": 26,
     "metadata": {},
     "output_type": "execute_result"
    }
   ],
   "source": [
    "preres =predict(x_validation,train)\n",
    "error(preres,y_validation)"
   ]
  },
  {
   "cell_type": "code",
   "execution_count": 27,
   "metadata": {},
   "outputs": [
    {
     "data": {
      "text/plain": [
       "0.5"
      ]
     },
     "execution_count": 27,
     "metadata": {},
     "output_type": "execute_result"
    }
   ],
   "source": [
    "lambd_reg = 0.05\n",
    "train1 = build_model()\n",
    "preres1 =predict(x_validation,train1)\n",
    "error(preres1,y_validation)"
   ]
  },
  {
   "cell_type": "code",
   "execution_count": 28,
   "metadata": {},
   "outputs": [
    {
     "data": {
      "text/plain": [
       "0.5"
      ]
     },
     "execution_count": 28,
     "metadata": {},
     "output_type": "execute_result"
    }
   ],
   "source": [
    "lambd_reg = 0.005\n",
    "train5 = build_model()\n",
    "preres5 =predict(x_validation,train5)\n",
    "error(preres5,y_validation)"
   ]
  },
  {
   "cell_type": "code",
   "execution_count": 29,
   "metadata": {},
   "outputs": [
    {
     "data": {
      "text/plain": [
       "0.0625"
      ]
     },
     "execution_count": 29,
     "metadata": {},
     "output_type": "execute_result"
    }
   ],
   "source": [
    "lambd_reg = 0.0005\n",
    "train3 = build_model()\n",
    "preres3 =predict(x_validation,train3)\n",
    "error(preres3,y_validation)"
   ]
  },
  {
   "cell_type": "code",
   "execution_count": 30,
   "metadata": {},
   "outputs": [
    {
     "data": {
      "text/plain": [
       "0.0375"
      ]
     },
     "execution_count": 30,
     "metadata": {},
     "output_type": "execute_result"
    }
   ],
   "source": [
    "lambd_reg = 0.00005\n",
    "train4 = build_model()\n",
    "preres4 =predict(x_validation,train4)\n",
    "error(preres4,y_validation)"
   ]
  },
  {
   "cell_type": "code",
   "execution_count": 31,
   "metadata": {},
   "outputs": [
    {
     "data": {
      "text/plain": [
       "0.075"
      ]
     },
     "execution_count": 31,
     "metadata": {},
     "output_type": "execute_result"
    }
   ],
   "source": [
    "lambd_reg = 0.000005\n",
    "train5 = build_model()\n",
    "preres5 =predict(x_validation,train5)\n",
    "error(preres5,y_validation)"
   ]
  },
  {
   "cell_type": "code",
   "execution_count": 32,
   "metadata": {
    "collapsed": true
   },
   "outputs": [],
   "source": [
    "lambd_reg = 0.00005\n"
   ]
  },
  {
   "cell_type": "code",
   "execution_count": 33,
   "metadata": {},
   "outputs": [
    {
     "data": {
      "text/plain": [
       "0.07"
      ]
     },
     "execution_count": 33,
     "metadata": {},
     "output_type": "execute_result"
    }
   ],
   "source": [
    "pretrain = predict(x_train,train4)\n",
    "error(pretrain,y_train)"
   ]
  },
  {
   "cell_type": "code",
   "execution_count": 34,
   "metadata": {},
   "outputs": [
    {
     "data": {
      "text/plain": [
       "0.06666666666666667"
      ]
     },
     "execution_count": 34,
     "metadata": {},
     "output_type": "execute_result"
    }
   ],
   "source": [
    "pretest = predict(x_test,train4)\n",
    "error(pretest,y_test)"
   ]
  },
  {
   "cell_type": "code",
   "execution_count": 35,
   "metadata": {
    "collapsed": true
   },
   "outputs": [],
   "source": [
    "#Q3\n",
    "#S2 = 10\n",
    "hid_l = 10\n",
    "lambd_reg = 0.5\n",
    "train_10 = build_model()"
   ]
  },
  {
   "cell_type": "code",
   "execution_count": 36,
   "metadata": {},
   "outputs": [
    {
     "data": {
      "text/plain": [
       "{'W1': array([[ -1.22824215e-020,   2.87520419e-020],\n",
       "        [ -3.68477789e-020,   8.62573294e-020],\n",
       "        [ -3.68476314e-020,   8.62569842e-020],\n",
       "        [  1.22824570e-020,  -2.87521249e-020],\n",
       "        [  4.94065646e-324,  -4.94065646e-324],\n",
       "        [  1.22824024e-020,  -2.87519971e-020],\n",
       "        [  6.14115381e-020,  -1.43758876e-019],\n",
       "        [  7.36918868e-020,  -1.72506066e-019],\n",
       "        [ -2.45650538e-020,   5.75045771e-020],\n",
       "        [ -2.45648097e-020,   5.75040057e-020]]),\n",
       " 'W2': array([[ -4.44089210e-018,  -1.33226763e-017,  -1.33226763e-017,\n",
       "           4.44089210e-018,   4.94065646e-324,   4.44089210e-018,\n",
       "           2.22044605e-017,   2.66453526e-017,  -8.88178420e-018,\n",
       "          -8.88178420e-018]]),\n",
       " 'b1': array([[ -5.15572250e-05],\n",
       "        [ -9.34264506e-05],\n",
       "        [ -8.14182841e-05],\n",
       "        [ -6.02134399e-05],\n",
       "        [  2.88230336e-05],\n",
       "        [ -4.68837387e-05],\n",
       "        [ -2.37322994e-05],\n",
       "        [  5.60150828e-05],\n",
       "        [ -7.72947756e-05],\n",
       "        [ -4.74852078e-05]]),\n",
       " 'b2': array([[ -3.20299098e-16]])}"
      ]
     },
     "execution_count": 36,
     "metadata": {},
     "output_type": "execute_result"
    }
   ],
   "source": [
    "train_10"
   ]
  },
  {
   "cell_type": "code",
   "execution_count": 37,
   "metadata": {},
   "outputs": [
    {
     "data": {
      "text/plain": [
       "0.5"
      ]
     },
     "execution_count": 37,
     "metadata": {},
     "output_type": "execute_result"
    }
   ],
   "source": [
    "precheck =predict(x_validation,train_10)\n",
    "error(precheck,y_validation)"
   ]
  },
  {
   "cell_type": "code",
   "execution_count": 38,
   "metadata": {},
   "outputs": [
    {
     "data": {
      "text/plain": [
       "0.5"
      ]
     },
     "execution_count": 38,
     "metadata": {},
     "output_type": "execute_result"
    }
   ],
   "source": [
    "lambd_reg = 0.05\n",
    "train_10_1 = build_model()\n",
    "precheck1 =predict(x_validation,train_10_1)\n",
    "error(precheck1,y_validation)"
   ]
  },
  {
   "cell_type": "code",
   "execution_count": 39,
   "metadata": {},
   "outputs": [
    {
     "data": {
      "text/plain": [
       "0.5"
      ]
     },
     "execution_count": 39,
     "metadata": {},
     "output_type": "execute_result"
    }
   ],
   "source": [
    "lambd_reg = 0.005\n",
    "train_10_2 = build_model()\n",
    "precheck2 =predict(x_validation,train_10_2)\n",
    "error(precheck2,y_validation)"
   ]
  },
  {
   "cell_type": "code",
   "execution_count": 40,
   "metadata": {},
   "outputs": [
    {
     "data": {
      "text/plain": [
       "0.1875"
      ]
     },
     "execution_count": 40,
     "metadata": {},
     "output_type": "execute_result"
    }
   ],
   "source": [
    "lambd_reg = 0.0005\n",
    "train_10_3 = build_model()\n",
    "precheck3 =predict(x_validation,train_10_3)\n",
    "error(precheck3,y_validation)"
   ]
  },
  {
   "cell_type": "code",
   "execution_count": 41,
   "metadata": {},
   "outputs": [
    {
     "name": "stderr",
     "output_type": "stream",
     "text": [
      "D:\\Users\\Sagar Ghiya\\Anaconda3\\lib\\site-packages\\ipykernel_launcher.py:3: RuntimeWarning: overflow encountered in exp\n",
      "  This is separate from the ipykernel package so we can avoid doing imports until\n"
     ]
    },
    {
     "data": {
      "text/plain": [
       "0.1375"
      ]
     },
     "execution_count": 41,
     "metadata": {},
     "output_type": "execute_result"
    }
   ],
   "source": [
    "lambd_reg = 0.00005\n",
    "train_10_4 = build_model()\n",
    "precheck4 =predict(x_validation,train_10_4)\n",
    "error(precheck4,y_validation)"
   ]
  },
  {
   "cell_type": "code",
   "execution_count": 42,
   "metadata": {
    "collapsed": true
   },
   "outputs": [],
   "source": [
    "lambd_reg = 0.0005"
   ]
  },
  {
   "cell_type": "code",
   "execution_count": 43,
   "metadata": {},
   "outputs": [
    {
     "data": {
      "text/plain": [
       "0.125"
      ]
     },
     "execution_count": 43,
     "metadata": {},
     "output_type": "execute_result"
    }
   ],
   "source": [
    "pretrain_10 = predict(x_train,train_10_3)\n",
    "error(pretrain_10,y_train)"
   ]
  },
  {
   "cell_type": "code",
   "execution_count": 44,
   "metadata": {},
   "outputs": [
    {
     "data": {
      "text/plain": [
       "0.15"
      ]
     },
     "execution_count": 44,
     "metadata": {},
     "output_type": "execute_result"
    }
   ],
   "source": [
    "pretest_10 = predict(x_test,train_10_3)\n",
    "error(pretest_10,y_test)"
   ]
  },
  {
   "cell_type": "code",
   "execution_count": 45,
   "metadata": {},
   "outputs": [
    {
     "data": {
      "text/plain": [
       "<matplotlib.collections.PathCollection at 0x2471e7337b8>"
      ]
     },
     "execution_count": 45,
     "metadata": {},
     "output_type": "execute_result"
    },
    {
     "data": {
      "image/png": "[encoded data removed]",
      "text/plain": [
       "<matplotlib.figure.Figure at 0x2471e517e10>"
      ]
     },
     "metadata": {},
     "output_type": "display_data"
    }
   ],
   "source": [
    "#Q4\n",
    "category0 = x_train[:,0:99]\n",
    "category1 = x_train[:,100:200]\n",
    "f2 = plt.figure(2)     \n",
    "plt.scatter(category0[0,:], category0[1,:], marker = 's', color = 'r')   \n",
    "plt.scatter(category1[0,:], category1[1,:], marker = 'o', color = 'b')  "
   ]
  },
  {
   "cell_type": "code",
   "execution_count": 46,
   "metadata": {
    "collapsed": true
   },
   "outputs": [],
   "source": [
    "# No, the data is not linearly seperable. \n",
    "# Yes the neural networks in part 2 and 3 were able to correctly classify the data. That's the beauty of neural networks.\n",
    "# They combine training points by giving apprpriate weight to the features. Thus on reaching optimal value of weights for these features \n",
    "# data can be classified correctly. Backpropogation also helps in this case to adjust the weights and give better accuracy. "
   ]
  }
 ],
 "metadata": {
  "kernelspec": {
   "display_name": "Python 3",
   "language": "python",
   "name": "python3"
  },
  "language_info": {
   "codemirror_mode": {
    "name": "ipython",
    "version": 3
   },
   "file_extension": ".py",
   "mimetype": "text/x-python",
   "name": "python",
   "nbconvert_exporter": "python",
   "pygments_lexer": "ipython3",
   "version": "3.6.3"
  }
 },
 "nbformat": 4,
 "nbformat_minor": 2
}
